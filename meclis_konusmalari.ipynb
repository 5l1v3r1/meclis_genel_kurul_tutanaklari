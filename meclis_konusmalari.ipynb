{
 "cells": [
  {
   "cell_type": "markdown",
   "metadata": {},
   "source": [
    "***TBMM OTURUM TUTANAKLARININ İNDİRİLMESİ***"
   ]
  },
  {
   "cell_type": "markdown",
   "metadata": {},
   "source": []
  },
  {
   "cell_type": "code",
   "execution_count": 1,
   "metadata": {},
   "outputs": [],
   "source": [
    "import requests\n",
    "from bs4 import BeautifulSoup\n",
    "import datetime\n",
    "from dateutil.parser import parse\n",
    "import pandas as pd\n",
    "import csv\n",
    "import re\n",
    "import time\n",
    "import random"
   ]
  },
  {
   "cell_type": "markdown",
   "metadata": {},
   "source": []
  },
  {
   "cell_type": "code",
   "execution_count": 2,
   "metadata": {},
   "outputs": [],
   "source": [
    "ilk_hedef = requests.get(\"https://www.tbmm.gov.tr/tutanak/tutanaklar.htm\").content\n",
    "soup1=BeautifulSoup(ilk_hedef)\n",
    "\n",
    "urls_1=[]\n",
    "for i in soup1.find_all(\"a\", href=True):\n",
    "    urls_1.append(str(i).split('=\"')[1].split('\" s')[0])\n",
    "\n",
    "# YUKARIDA ELDE EDİLEN urls_1 LİSTESİ KULLANILARAK urls_dict (TARİH:LİNK) ŞEKLİNDE ELDE EDİLİYOR\n",
    "\n",
    "urls_dict = {}\n",
    "\n",
    "for url in urls_1:\n",
    "    ikinci_hedef = requests.get(url).content\n",
    "    soup2 = BeautifulSoup(ikinci_hedef)\n",
    "\n",
    "    for i in soup2.find_all(\"a\", href=True):\n",
    "        if (not \"Özet\" in i) and (not \"Açık Oylama Sonuçları\" in i) and (not \"Sesli Özet\" in i) and (not \"İşaret Dili\" in i):             \n",
    "            j = str(i).split('=\"')[1].split('\">')[0]\n",
    "            k = parse(str(i.parent.next_sibling.next_sibling).split(\"d>\")[1].split(\" \")[0])\n",
    "            if (\"ham\" in j) or (\"bas\" in j):\n",
    "                urls_dict[k] = j\n",
    "      \n",
    "\n",
    "\n",
    "    \n",
    "# urls_dict SÖZLÜĞÜ YEDEKLEMEK AMACIYLA 'urls_dict.txt' DOSYASINA KAYDEDİLDİ\n",
    "# with open('urls_dict.txt', 'w') as f:\n",
    "#     print(urls_dict, file=f)  \n",
    "\n",
    "\n",
    "urls_yedek = urls_dict.copy()         # YEDEĞİ ALMAK HER ZAMAN LAZIM"
   ]
  },
  {
   "cell_type": "markdown",
   "metadata": {},
   "source": []
  },
  {
   "cell_type": "code",
   "execution_count": 4,
   "metadata": {},
   "outputs": [
    {
     "ename": "KeyboardInterrupt",
     "evalue": "",
     "output_type": "error",
     "traceback": [
      "\u001b[1;31m---------------------------------------------------------------------------\u001b[0m",
      "\u001b[1;31mKeyboardInterrupt\u001b[0m                         Traceback (most recent call last)",
      "\u001b[1;32m<ipython-input-4-a18cf25441a7>\u001b[0m in \u001b[0;36m<module>\u001b[1;34m\u001b[0m\n\u001b[0;32m     22\u001b[0m         \u001b[0mf\u001b[0m\u001b[1;33m.\u001b[0m\u001b[0mwrite\u001b[0m\u001b[1;33m(\u001b[0m\u001b[1;34m\"\\r\\n\"\u001b[0m\u001b[1;33m)\u001b[0m\u001b[1;33m\u001b[0m\u001b[1;33m\u001b[0m\u001b[0m\n\u001b[0;32m     23\u001b[0m \u001b[1;33m\u001b[0m\u001b[0m\n\u001b[1;32m---> 24\u001b[1;33m     \u001b[0mtime\u001b[0m\u001b[1;33m.\u001b[0m\u001b[0msleep\u001b[0m\u001b[1;33m(\u001b[0m\u001b[0mrandom\u001b[0m\u001b[1;33m.\u001b[0m\u001b[0mrandint\u001b[0m\u001b[1;33m(\u001b[0m\u001b[1;36m4\u001b[0m\u001b[1;33m,\u001b[0m\u001b[1;36m10\u001b[0m\u001b[1;33m)\u001b[0m\u001b[1;33m)\u001b[0m                    \u001b[1;31m# SİTEYİ BOĞMAMAK İÇİN\u001b[0m\u001b[1;33m\u001b[0m\u001b[1;33m\u001b[0m\u001b[0m\n\u001b[0m\u001b[0;32m     25\u001b[0m \u001b[1;31m#     break\u001b[0m\u001b[1;33m\u001b[0m\u001b[1;33m\u001b[0m\u001b[1;33m\u001b[0m\u001b[0m\n\u001b[0;32m     26\u001b[0m \u001b[1;33m\u001b[0m\u001b[0m\n",
      "\u001b[1;31mKeyboardInterrupt\u001b[0m: "
     ]
    }
   ],
   "source": [
    "\n",
    "counter = 0\n",
    "for key,value in urls_dict.items():\n",
    "    req = requests.get(value).content\n",
    "    soup = BeautifulSoup(req)\n",
    "    text = soup.get_text().replace(\"\\xa0\",\"\")\n",
    "    date = key.strftime(\"%Y-%m-%d\")\n",
    "    with open(f\"tutanaklar/{date}.txt\", 'wb') as f:\n",
    "        f.write(text.encode(\"utf-8\"))\n",
    "                                      \n",
    "    with open(\"tamamlanan_urller.txt\", 'a') as f:      # PROGRAM KAPANIRSA TAMAMLANMIŞ İŞLEMLER KAYBEDİLMESİN DİYE\n",
    "        f.write(value)\n",
    "        f.write(\"\\r\\n\")\n",
    "    \n",
    "    counter+=1\n",
    "    time.sleep(random.randint(4,10))                    # SİTEYİ BOĞMAMAK İÇİN\n",
    "    \n",
    "#     break\n",
    "print(f'{counter} adet sayfa indirildi ve kaydedildi.')\n",
    "    "
   ]
  }
 ],
 "metadata": {
  "kernelspec": {
   "display_name": "Python 3",
   "language": "python",
   "name": "python3"
  },
  "language_info": {
   "codemirror_mode": {
    "name": "ipython",
    "version": 3
   },
   "file_extension": ".py",
   "mimetype": "text/x-python",
   "name": "python",
   "nbconvert_exporter": "python",
   "pygments_lexer": "ipython3",
   "version": "3.7.7"
  }
 },
 "nbformat": 4,
 "nbformat_minor": 4
}
