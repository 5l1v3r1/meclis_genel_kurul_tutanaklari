{
 "cells": [
  {
   "cell_type": "markdown",
   "metadata": {},
   "source": [
    "***TBMM OTURUM TUTANAKLARININ İNDİRİLMESİ***"
   ]
  },
  {
   "cell_type": "markdown",
   "metadata": {},
   "source": []
  },
  {
   "cell_type": "code",
   "execution_count": 1,
   "metadata": {},
   "outputs": [],
   "source": [
    "import requests\n",
    "from bs4 import BeautifulSoup\n",
    "import datetime\n",
    "from dateutil.parser import parse\n",
    "import pandas as pd\n",
    "import csv\n",
    "import re\n",
    "import time\n",
    "import random"
   ]
  },
  {
   "cell_type": "markdown",
   "metadata": {},
   "source": []
  },
  {
   "cell_type": "code",
   "execution_count": 15,
   "metadata": {},
   "outputs": [],
   "source": [
    "ilk_hedef = requests.get(\"https://www.tbmm.gov.tr/tutanak/tutanaklar.htm\").content\n",
    "soup1=BeautifulSoup(ilk_hedef)\n",
    "\n",
    "urls_1=[]\n",
    "for i in soup1.find_all(\"a\", href=True):\n",
    "    urls_1.append(str(i).split('=\"')[1].split('\" s')[0])\n",
    "\n",
    "# YUKARIDA ELDE EDİLEN urls_1 LİSTESİ KULLANILARAK urls_dict (TARİH:LİNK) ŞEKLİNDE ELDE EDİLİYOR\n",
    "# \n",
    "\n",
    "urls_dict = {}\n",
    "\n",
    "for url in urls_1:\n",
    "    ikinci_hedef = requests.get(url).content\n",
    "    soup2 = BeautifulSoup(ikinci_hedef)\n",
    "\n",
    "    for i in soup2.find_all(\"a\", href=True):\n",
    "        if (not \"Özet\" in i) and (not \"Açık Oylama Sonuçları\" in i) and (not \"Sesli Özet\" in i) and (not \"İşaret Dili\" in i):             \n",
    "            j = str(i).split('=\"')[1].split('\">')[0]\n",
    "            k = str(i.parent.next_sibling.next_sibling).split(\"d>\")[1].split(\" \")[0].replace(\".\",\"-\")\n",
    "            if (\"ham\" in j) or (\"bas\" in j):\n",
    "                urls_dict[k] = j\n",
    "      \n",
    "\n",
    "\n",
    "    \n",
    "# urls_dict SÖZLÜĞÜ YEDEKLEMEK AMACIYLA 'urls_dict.txt' DOSYASINA KAYDEDİLDİ\n",
    "# with open('urls_dict.txt', 'w') as f:\n",
    "#     print(urls_dict, file=f)  \n",
    "\n",
    "\n",
    "urls_yedek = urls_dict.copy()         # YEDEĞİ ALMAK HER ZAMAN LAZIM"
   ]
  },
  {
   "cell_type": "markdown",
   "metadata": {},
   "source": []
  },
  {
   "cell_type": "code",
   "execution_count": 40,
   "metadata": {},
   "outputs": [
    {
     "name": "stdout",
     "output_type": "stream",
     "text": [
      "3017 adet sayfa indirildi ve kaydedildi.\n"
     ]
    }
   ],
   "source": [
    "\n",
    "counter = 0\n",
    "for key,value in urls_dict.items():\n",
    "    with open(\"tamamlanan_urller.txt\", 'r') as f:\n",
    "        temp=list(set(f.readlines()))\n",
    "        for i in range(len(temp)):\n",
    "            temp[i]=temp[i].strip(\"\\n\")\n",
    "        if value not in temp:\n",
    "            req = requests.get(value).content\n",
    "            soup = BeautifulSoup(req)\n",
    "            text = soup.get_text().replace(\"\\xa0\",\"\")\n",
    "        #     date = key.strftime(\"%Y-%m-%d\")\n",
    "            with open(f\"tutanaklar/{key}.txt\", 'wb') as f:\n",
    "                f.write(text.encode(\"utf-8\"))\n",
    "\n",
    "            with open(\"tamamlanan_urller.txt\", 'a') as f:      # PROGRAM KAPANIRSA TAMAMLANMIŞ İŞLEMLER KAYBEDİLMESİN DİYE\n",
    "                f.write(value)\n",
    "                f.write(\"\\r\\n\")\n",
    "\n",
    "            counter+=1\n",
    "            time.sleep(random.randint(10,30))                    # SİTEYİ BOĞMAMAK İÇİN\n",
    "    \n",
    "#     break\n",
    "print(f'{counter} adet sayfa indirildi ve kaydedildi.')\n",
    "    "
   ]
  }
 ],
 "metadata": {
  "kernelspec": {
   "display_name": "Python 3",
   "language": "python",
   "name": "python3"
  },
  "language_info": {
   "codemirror_mode": {
    "name": "ipython",
    "version": 3
   },
   "file_extension": ".py",
   "mimetype": "text/x-python",
   "name": "python",
   "nbconvert_exporter": "python",
   "pygments_lexer": "ipython3",
   "version": "3.7.7"
  }
 },
 "nbformat": 4,
 "nbformat_minor": 4
}
