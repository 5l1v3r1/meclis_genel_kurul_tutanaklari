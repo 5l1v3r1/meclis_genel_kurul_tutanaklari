{
 "cells": [
  {
   "cell_type": "code",
   "execution_count": 1,
   "metadata": {},
   "outputs": [],
   "source": [
    "import requests\n",
    "from bs4 import BeautifulSoup"
   ]
  },
  {
   "cell_type": "code",
   "execution_count": 108,
   "metadata": {},
   "outputs": [],
   "source": [
    "# BURADA URL GİRDİLERİ FOR DÖNGÜSÜNE GİRECEK\n",
    "# BUNUN ÖNCESİNE ilk_hedef ve ikinci_hedef KISIMLARI GELECEK\n",
    "\n",
    "url = \"https://www.tbmm.gov.tr/tutanak/donem27/yil3/ham/b08501h.htm\"\n",
    "# url = \"https://www.tbmm.gov.tr/tutanak/donem21/yil2/bas/b119m.htm\"\n",
    "site = requests.get(url).content"
   ]
  },
  {
   "cell_type": "code",
   "execution_count": 110,
   "metadata": {},
   "outputs": [
    {
     "name": "stdout",
     "output_type": "stream",
     "text": [
      "den, tarım ürünlerini ithal eden bir Türkiye'ye gelindi. Bu\n",
      "durum AK PARTİ iktidarının övüneceği, ne acı ki, bir eseridir. Türkiye'de\n",
      "tarımsal üretim sorunu var, tarım politikası ne acı ki yok. \n",
      "Salgınla\n",
      "mücadele için, üretim için de dayanışmaya ihtiyacımız olduğu bugünlerde\n",
      "özellikle şunu iyi bilmeliyiz: Bu bir aylık sezonu kaçırırsak bir yıllık\n",
      "mahsulü, beraberinde üreticiyi ve çiftçiyi de kaybederiz. Üretmezsek\n",
      "beslenemeyiz, tüketemeyiz; üretmezsek kıtlık ve açlık içinde yaşarız.\n",
      "Atatürk'ün “Milletin efendisidir.” dediği köylü, ne acı ki, AK PARTİ\n",
      "iktidarında perişan edilip, o doğdu\n"
     ]
    }
   ],
   "source": [
    "# BÜTÜN SAYFANIN TEXT'İ ALINDI - FARKLI ŞEKİLDE TASARLANMIŞ SAYFALARLA AYRI AYRI UĞRAŞMAKTANSA BU DAHA KOLAY OLABİLİR\n",
    "\n",
    "# soup = BeautifulSoup.BeautifulSoup(site.decode('utf-8','ignore'))\n",
    "soup = BeautifulSoup(site)\n",
    "q = soup.get_text().replace(\"\\xa0\",\"\")               #.replace(\"\\r\\n\",\" \").lower()\n",
    "\n",
    "# zxc = []\n",
    "# for asdqew in q.split(\"birleşim\"):\n",
    "#     zxc.append(asdqew)\n",
    "# print(zxc)\n",
    "# print(q[198:][:12])\n",
    "print(q[30000:][:600])\n",
    "# print(q)"
   ]
  },
  {
   "cell_type": "code",
   "execution_count": 50,
   "metadata": {},
   "outputs": [
    {
     "name": "stdout",
     "output_type": "stream",
     "text": [
      "\n"
     ]
    }
   ],
   "source": [
    "# BU KISIM BİR ÖNCEKİ HÜCRENİN SONUÇLARINI AYIKLAMAK İÇİN YENİDEN DÜZENLENMELİ\n",
    "\n",
    "\n",
    "i = \"\"\n",
    "for liste in soup.find_all(\"p\", class_=\"GENELKURUL\"):\n",
    "    i+=liste.text.replace(\"\\r\\n\",\" \")+\" \"\n",
    "i.replace(\"  \",\" \")\n",
    "# i.replace(\"\\r\\n\",\" \")\n",
    "\n",
    "\n",
    "asd = i.split()\n",
    "for kelime in range(len(asd)):\n",
    "    if ((asd[kelime].isupper() and asd[kelime+1].isupper()) or asd[kelime]==\"BAŞKAN\") and not asd[kelime+1].startswith(\"PART\"):\n",
    "        if asd[kelime-1].isupper() and asd[kelime].isupper() and asd[kelime+1].isupper():\n",
    "            pass\n",
    "        else:\n",
    "            asd[kelime]=\"\\n\"+asd[kelime]\n",
    "qwe = \" \".join(asd)\n",
    "print(qwe)"
   ]
  },
  {
   "cell_type": "code",
   "execution_count": 104,
   "metadata": {},
   "outputs": [],
   "source": [
    "# BÜTÜN İŞLEM BİTTİĞİNDE CSV DOSYASI HALİNDE KAYDEDİLMELİ\n",
    "\n",
    "f = open(\"test.txt\",'w')\n",
    "f.write(i)\n",
    "f.close()"
   ]
  },
  {
   "cell_type": "code",
   "execution_count": 42,
   "metadata": {},
   "outputs": [
    {
     "name": "stdout",
     "output_type": "stream",
     "text": [
      "['https://www.tbmm.gov.tr/tutanak/donem27/tutanak3.htm', 'https://www.tbmm.gov.tr/tutanak/donem27/tutanak2.htm', 'https://www.tbmm.gov.tr/tutanak/donem27/tutanak1.htm', 'https://www.tbmm.gov.tr/tutanak/donem26/tutanak3.htm', 'https://www.tbmm.gov.tr/tutanak/donem26/tutanak2.htm', 'https://www.tbmm.gov.tr/tutanak/donem26/tutanak1.htm', 'https://www.tbmm.gov.tr/tutanak/donem25/tutanak2.htm', 'https://www.tbmm.gov.tr/tutanak/donem25/tutanak1.htm', 'https://www.tbmm.gov.tr/tutanak/donem24/tutanak5.htm', 'https://www.tbmm.gov.tr/tutanak/donem24/tutanak4.htm', 'https://www.tbmm.gov.tr/tutanak/donem24/tutanak3.htm', 'https://www.tbmm.gov.tr/tutanak/donem24/tutanak2.htm', 'https://www.tbmm.gov.tr/tutanak/donem24/tutanak1.htm', 'https://www.tbmm.gov.tr/tutanak/donem23/tutanak5.htm', 'https://www.tbmm.gov.tr/tutanak/donem23/tutanak4.htm', 'https://www.tbmm.gov.tr/tutanak/donem23/tutanak3.htm', 'https://www.tbmm.gov.tr/tutanak/donem23/tutanak2.htm', 'https://www.tbmm.gov.tr/tutanak/donem23/tutanak1.htm', 'https://www.tbmm.gov.tr/tutanak/donem22/tutanak5.htm', 'https://www.tbmm.gov.tr/tutanak/donem22/tutanak4.htm', 'https://www.tbmm.gov.tr/tutanak/donem22/tutanak3.htm', 'https://www.tbmm.gov.tr/tutanak/donem22/tutanak2.htm', 'https://www.tbmm.gov.tr/tutanak/donem22/tutanak1.htm', 'https://www.tbmm.gov.tr/tutanak/donem21/tutanak5.htm', 'https://www.tbmm.gov.tr/tutanak/donem21/tutanak4.htm', 'https://www.tbmm.gov.tr/tutanak/donem21/tutanak3.htm', 'https://www.tbmm.gov.tr/tutanak/donem21/tutanak2.htm', 'https://www.tbmm.gov.tr/tutanak/donem21/tutanak1.htm', 'https://www.tbmm.gov.tr/tutanak/donem20/tutanak4.htm', 'https://www.tbmm.gov.tr/tutanak/donem20/tutanak3.htm', 'https://www.tbmm.gov.tr/tutanak/donem20/tutanak2.htm', 'https://www.tbmm.gov.tr/tutanak/donem20/tutanak1.htm']\n"
     ]
    }
   ],
   "source": [
    "ilk_hedef = requests.get(\"https://www.tbmm.gov.tr/tutanak/tutanaklar.htm\").content\n",
    "soup1=BeautifulSoup(ilk_hedef)\n",
    "\n",
    "urls_1=[]\n",
    "for i in soup1.find_all(\"a\", href=True):\n",
    "#     print(i)\n",
    "    urls_1.append(str(i).split('=\"')[1].split('\" s')[0])\n",
    "print(urls_1)"
   ]
  },
  {
   "cell_type": "code",
   "execution_count": 45,
   "metadata": {},
   "outputs": [],
   "source": [
    "# BU KISIM ilk_hedef'ten GELEN URL'LERLE FOR DÖNGÜSÜNE GİRECEK\n",
    "\n",
    "ikinci_hedef = requests.get(\"https://www.tbmm.gov.tr/tutanak/donem20/tutanak1.htm\").content\n",
    "soup2 = BeautifulSoup(ikinci_hedef)"
   ]
  },
  {
   "cell_type": "code",
   "execution_count": 46,
   "metadata": {},
   "outputs": [
    {
     "name": "stdout",
     "output_type": "stream",
     "text": [
      "['https://www.tbmm.gov.tr/tutanak/donem20/yil1/bas/b087m.htm', 'https://www.tbmm.gov.tr/tutanak/donem20/yil1/bas/b086m.htm', 'https://www.tbmm.gov.tr/tutanak/donem20/yil1/bas/b085m.htm', 'https://www.tbmm.gov.tr/tutanak/donem20/yil1/bas/b084m.htm', 'https://www.tbmm.gov.tr/tutanak/donem20/yil1/bas/b083m.htm', 'https://www.tbmm.gov.tr/tutanak/donem20/yil1/bas/b082m.htm', 'https://www.tbmm.gov.tr/tutanak/donem20/yil1/bas/b081m.htm', 'https://www.tbmm.gov.tr/tutanak/donem20/yil1/bas/b080m.htm', 'https://www.tbmm.gov.tr/tutanak/donem20/yil1/bas/b079m.htm', 'https://www.tbmm.gov.tr/tutanak/donem20/yil1/bas/b078m.htm', 'https://www.tbmm.gov.tr/tutanak/donem20/yil1/bas/b077m.htm', 'https://www.tbmm.gov.tr/tutanak/donem20/yil1/bas/b076m.htm', 'https://www.tbmm.gov.tr/tutanak/donem20/yil1/bas/b075m.htm', 'https://www.tbmm.gov.tr/tutanak/donem20/yil1/bas/b074m.htm', 'https://www.tbmm.gov.tr/tutanak/donem20/yil1/bas/b073m.htm', 'https://www.tbmm.gov.tr/tutanak/donem20/yil1/bas/b072m.htm', 'https://www.tbmm.gov.tr/tutanak/donem20/yil1/bas/b071m.htm', 'https://www.tbmm.gov.tr/tutanak/donem20/yil1/bas/b070m.htm', 'https://www.tbmm.gov.tr/tutanak/donem20/yil1/bas/b069m.htm', 'https://www.tbmm.gov.tr/tutanak/donem20/yil1/bas/b068m.htm', 'https://www.tbmm.gov.tr/tutanak/donem20/yil1/bas/b067m.htm', 'https://www.tbmm.gov.tr/tutanak/donem20/yil1/bas/b066m.htm', 'https://www.tbmm.gov.tr/tutanak/donem20/yil1/bas/b065m.htm', 'https://www.tbmm.gov.tr/tutanak/donem20/yil1/bas/b064m.htm', 'https://www.tbmm.gov.tr/tutanak/donem20/yil1/bas/b063m.htm', 'https://www.tbmm.gov.tr/tutanak/donem20/yil1/bas/b062m.htm', 'https://www.tbmm.gov.tr/tutanak/donem20/yil1/bas/b061m.htm', 'https://www.tbmm.gov.tr/tutanak/donem20/yil1/bas/b060m.htm', 'https://www.tbmm.gov.tr/tutanak/donem20/yil1/bas/b059m.htm', 'https://www.tbmm.gov.tr/tutanak/donem20/yil1/bas/b058m.htm', 'https://www.tbmm.gov.tr/tutanak/donem20/yil1/bas/b057m.htm', 'https://www.tbmm.gov.tr/tutanak/donem20/yil1/bas/b056m.htm', 'https://www.tbmm.gov.tr/tutanak/donem20/yil1/bas/b055m.htm', 'https://www.tbmm.gov.tr/tutanak/donem20/yil1/bas/b054m.htm', 'https://www.tbmm.gov.tr/tutanak/donem20/yil1/bas/b053m.htm', 'https://www.tbmm.gov.tr/tutanak/donem20/yil1/bas/b052m.htm', 'https://www.tbmm.gov.tr/tutanak/donem20/yil1/bas/b051m.htm', 'https://www.tbmm.gov.tr/tutanak/donem20/yil1/bas/b050m.htm', 'https://www.tbmm.gov.tr/tutanak/donem20/yil1/bas/b049m.htm', 'https://www.tbmm.gov.tr/tutanak/donem20/yil1/bas/b048m.htm', 'https://www.tbmm.gov.tr/tutanak/donem20/yil1/bas/b047m.htm', 'https://www.tbmm.gov.tr/tutanak/donem20/yil1/bas/b046m.htm', 'https://www.tbmm.gov.tr/tutanak/donem20/yil1/bas/b045m.htm', 'https://www.tbmm.gov.tr/tutanak/donem20/yil1/bas/b044m.htm', 'https://www.tbmm.gov.tr/tutanak/donem20/yil1/bas/b043m.htm', 'https://www.tbmm.gov.tr/tutanak/donem20/yil1/bas/b042m.htm', 'https://www.tbmm.gov.tr/tutanak/donem20/yil1/bas/b041m.htm', 'https://www.tbmm.gov.tr/tutanak/donem20/yil1/bas/b040m.htm', 'https://www.tbmm.gov.tr/tutanak/donem20/yil1/bas/b039m.htm', 'https://www.tbmm.gov.tr/tutanak/donem20/yil1/bas/b038m.htm', 'https://www.tbmm.gov.tr/tutanak/donem20/yil1/bas/b037m.htm', 'https://www.tbmm.gov.tr/tutanak/donem20/yil1/bas/b036m.htm', 'https://www.tbmm.gov.tr/tutanak/donem20/yil1/bas/b035m.htm', 'https://www.tbmm.gov.tr/tutanak/donem20/yil1/bas/b034m.htm', 'https://www.tbmm.gov.tr/tutanak/donem20/yil1/bas/b033m.htm', 'https://www.tbmm.gov.tr/tutanak/donem20/yil1/bas/b032m.htm']\n"
     ]
    }
   ],
   "source": [
    "# BİR ÖNCEKİ HÜCRE BUNUN İÇİNDE FOR DÖNGÜSÜNE GİRMELİ\n",
    "\n",
    "urls_2=[]\n",
    "for i in soup2.find_all(\"a\", href=True):\n",
    "    j = str(i).split('=\"')[1].split('\">')[0]\n",
    "    if (\"ham\" in j) or (\"bas\" in j):\n",
    "        urls_2.append(j)\n",
    "        \n",
    "print(urls_2)        "
   ]
  }
 ],
 "metadata": {
  "kernelspec": {
   "display_name": "Python 3",
   "language": "python",
   "name": "python3"
  },
  "language_info": {
   "codemirror_mode": {
    "name": "ipython",
    "version": 3
   },
   "file_extension": ".py",
   "mimetype": "text/x-python",
   "name": "python",
   "nbconvert_exporter": "python",
   "pygments_lexer": "ipython3",
   "version": "3.7.7"
  }
 },
 "nbformat": 4,
 "nbformat_minor": 4
}
