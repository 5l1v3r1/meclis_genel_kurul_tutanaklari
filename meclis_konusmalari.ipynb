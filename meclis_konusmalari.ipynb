{
 "cells": [
  {
   "cell_type": "markdown",
   "metadata": {},
   "source": [
    "***TBMM Oturum Tutanaklarının BeautifulSoup4 ile indirilmesi***"
   ]
  },
  {
   "cell_type": "markdown",
   "metadata": {},
   "source": [
    "Bu programın ve defterin amacı daha sonra çeşitli NLP ve görselleştirme projelerinde kullanılmak üzere TBMM Genel Oturum tutanaklarının indirilmesi ve kaydedilmesi işlemlerini göstermektir. "
   ]
  },
  {
   "cell_type": "code",
   "execution_count": 1,
   "metadata": {},
   "outputs": [],
   "source": [
    "import requests\n",
    "from bs4 import BeautifulSoup\n",
    "import time\n",
    "import random"
   ]
  },
  {
   "cell_type": "markdown",
   "metadata": {},
   "source": [
    "\n",
    "TBMM'nin tutanaklar sayfasından istediğimiz linkleri çekerek urls_1 listesine kaydettik. İki seviye inmemiz gerektiğinden, bu liste aracılığıyla bir alt seviyedeki linklere ulaşıp urls_dict sözlüğünü oluşturduk. Bu sözlüğü herhangi bir aksilik oluşması riskine karşılık \"urls_dict.txt\" dosyasına kaydettik."
   ]
  },
  {
   "cell_type": "code",
   "execution_count": 15,
   "metadata": {},
   "outputs": [],
   "source": [
    "ilk_hedef = requests.get(\"https://www.tbmm.gov.tr/tutanak/tutanaklar.htm\").content\n",
    "soup1=BeautifulSoup(ilk_hedef)\n",
    "\n",
    "urls_1=[]\n",
    "for i in soup1.find_all(\"a\", href=True):\n",
    "    urls_1.append(str(i).split('=\"')[1].split('\" s')[0])\n",
    "\n",
    "    \n",
    "    # urls_1 listesini kullanarak istediğimiz linkleri urls_dict sözlüğüne kaydediyoruz; \n",
    "urls_dict = {}\n",
    "\n",
    "for url in urls_1:\n",
    "    ikinci_hedef = requests.get(url).content\n",
    "    soup2 = BeautifulSoup(ikinci_hedef)\n",
    "\n",
    "    # İstediğimiz özelliği taşımayan linkleri ayıklıyoruz;\n",
    "    for i in soup2.find_all(\"a\", href=True):\n",
    "        if (not \"Özet\" in i) and (not \"Açık Oylama Sonuçları\" in i) and (not \"Sesli Özet\" in i) and (not \"İşaret Dili\" in i):             \n",
    "            j = str(i).split('=\"')[1].split('\">')[0]\n",
    "            k = str(i.parent.next_sibling.next_sibling).split(\"d>\")[1].split(\" \")[0].replace(\".\",\"-\")\n",
    "            if (\"ham\" in j) or (\"bas\" in j):\n",
    "                urls_dict[k] = j\n",
    "      \n",
    "\"\"\"\n",
    "# SÖZLÜĞÜ YEDEKLEMEK AMACIYLA \"urls_dict\", 'urls_dict.txt' DOSYASINA KAYDEDİLDİ\n",
    "with open('urls_dict.txt', 'w') as f:\n",
    "    print(urls_dict, file=f)  \n",
    "\"\"\"\n",
    "\n",
    "    # Yedeklemek Önemli;\n",
    "urls_yedek = urls_dict.copy()         "
   ]
  },
  {
   "cell_type": "markdown",
   "metadata": {},
   "source": [
    "İşlemin yarıda kesilmesi riskine karşılık, \"tamamlanan_urller.txt\" adlı bir dosya oluşturarak işlemi tamamlanmış linkleri bu dosyaya kaydettik. İşlemin sekteye uğraması halinde bu dosyaya kaydedilmiş linkler kontrol edilip dosyada bulunmayan linkler işleme sokulabilir."
   ]
  },
  {
   "cell_type": "code",
   "execution_count": 40,
   "metadata": {},
   "outputs": [
    {
     "name": "stdout",
     "output_type": "stream",
     "text": [
      "3017 adet sayfa indirildi ve kaydedildi.\n"
     ]
    }
   ],
   "source": [
    "\n",
    "counter = 0\n",
    "\n",
    "    # urls_dict sözlüğündeki her bir elemanın içeriğinin okunması;\n",
    "for key,value in urls_dict.items():\n",
    "    with open(\"tamamlanan_urller.txt\", 'r') as f:\n",
    "        temp=list(set(f.readlines()))\n",
    "        \n",
    "    # Satır sonlarında bulunan \"\\n\"(newline) karakterlerini temizledik;\n",
    "        for i in range(len(temp)):\n",
    "            temp[i]=temp[i].strip(\"\\n\")\n",
    "            \n",
    "    # Daha önce kaydedilmemiş sayfaların indirilmesi;\n",
    "        if value not in temp:\n",
    "            req = requests.get(value).content\n",
    "            soup = BeautifulSoup(req)\n",
    "            text = soup.get_text().replace(\"\\xa0\",\"\")\n",
    "            with open(f\"tutanaklar/{key}.txt\", 'wb') as f:\n",
    "                f.write(text.encode(\"utf-8\"))\n",
    "\n",
    "    # İşlem yarıda kesilirse tamamlanmış kısımlar kaybedilmesin diye;\n",
    "            with open(\"tamamlanan_urller.txt\", 'a') as f:      \n",
    "                f.write(value)\n",
    "                f.write(\"\\r\\n\")\n",
    "\n",
    "            counter+=1\n",
    "            \n",
    "    # Siteyi Boğmamak için;\n",
    "            time.sleep(random.randint(10,30))                    \n",
    "    \n",
    "# Son olarak, indirilen sayfa sayısını görmek için;\n",
    "print(f'{counter} adet sayfa indirildi ve kaydedildi.')\n",
    "    "
   ]
  },
  {
   "cell_type": "markdown",
   "metadata": {},
   "source": [
    "Bundan sonrası için ayrı ayrı kaydedilmiş txt dosyalarının düzenlenmesi ve ayıklanması gerekli. \n",
    "\n",
    "Düşünceler;\n",
    "* \"urls_1\" ve \"urls_dict\"i ayırmaya gerek olmayabilirdi. \n",
    "* Markdown kısımlarının doldurulmasının sona bırakılmaması gerekir. \n",
    "* Program bu haliyle yeni eklenen tutanakların veri tabanına eklenmesi için de kullanılabilir. "
   ]
  }
 ],
 "metadata": {
  "kernelspec": {
   "display_name": "Python 3",
   "language": "python",
   "name": "python3"
  },
  "language_info": {
   "codemirror_mode": {
    "name": "ipython",
    "version": 3
   },
   "file_extension": ".py",
   "mimetype": "text/x-python",
   "name": "python",
   "nbconvert_exporter": "python",
   "pygments_lexer": "ipython3",
   "version": "3.7.7"
  }
 },
 "nbformat": 4,
 "nbformat_minor": 4
}
